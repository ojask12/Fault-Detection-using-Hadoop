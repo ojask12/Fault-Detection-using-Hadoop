{
 "cells": [
  {
   "cell_type": "markdown",
   "id": "a0440b9b",
   "metadata": {},
   "source": [
    "# Installing necessary libraries"
   ]
  },
  {
   "cell_type": "code",
   "execution_count": 1,
   "id": "08d692a7",
   "metadata": {},
   "outputs": [],
   "source": [
    "# !pip install tensorflow\n",
    "# !pip install pandas\n",
    "# !pip install elephas "
   ]
  },
  {
   "cell_type": "markdown",
   "id": "4e61eee8",
   "metadata": {},
   "source": [
    "# Getting data from HDFS"
   ]
  },
  {
   "cell_type": "code",
   "execution_count": 2,
   "id": "74f6c7d2",
   "metadata": {
    "scrolled": false
   },
   "outputs": [],
   "source": [
    "import pyspark \n",
    "from pyspark.sql import SparkSession\n",
    "from pyspark.sql.types import StructType\n",
    "\n",
    "import numpy as np\n",
    "import pandas as pd \n",
    "\n",
    "spark = SparkSession.builder.master(\"local\").appName(\"hdfs_test\").getOrCreate()\n",
    "core_site = \"hdfs://localhost:9000/\"\n",
    "data_fold = \"aabs-output/data_train.csv\"\n",
    "MODEL_PATH = \"/home/hdoop/kaggle_prod/prod_quality_predict_model.h5\"\n",
    "TRAIN_CSV_PATH = \"/home/hdoop/kaggle_prod/prod_train.csv\"\n",
    "TEST_CSV_PATH = \"/home/hdoop/kaggle_prod/prod_test.csv\"\n",
    "\n",
    "prod_schema = [\"T_data_1_1\", \"T_data_1_2\",\"T_data_1_3\", \n",
    "               \"T_data_2_1\", \"T_data_2_2\", \"T_data_2_3\", \n",
    "               \"T_data_3_1\", \"T_data_3_2\", \"T_data_3_3\", \n",
    "               \"T_data_4_1\", \"T_data_4_2\", \"T_data_4_3\", \n",
    "               \"T_data_5_1\", \"T_data_5_2\", \"T_data_5_3\",\n",
    "               \"H_data\", \"AH_data\", \"quality\" ]\n",
    "\n",
    "\n",
    "prod_data=spark.read.csv(core_site+data_fold).toPandas()\n",
    "prod_data = pd.DataFrame( prod_data._c0.str.rstrip().str.split(\" \").to_list(), columns=prod_schema ).astype(float)\n",
    "x = prod_data.drop([\"quality\"],axis=1)\n",
    "y = prod_data[\"quality\"]\n",
    "\n",
    "spark.stop()"
   ]
  },
  {
   "cell_type": "markdown",
   "id": "e8445d87",
   "metadata": {},
   "source": [
    "# Preprocessing the data to standardize & test-train split"
   ]
  },
  {
   "cell_type": "code",
   "execution_count": 3,
   "id": "7c0c3a97",
   "metadata": {},
   "outputs": [],
   "source": [
    "from sklearn.preprocessing import StandardScaler \n",
    "from sklearn.model_selection import train_test_split\n",
    "from sklearn.metrics import r2_score \n",
    "\n",
    "x_train,x_test,y_train,y_test = train_test_split(x,y,train_size=0.8,random_state=42)\n",
    "\n",
    "scaler = StandardScaler() \n",
    "scaler.fit(x_train) \n",
    "x_std_train = scaler.transform(x_train) \n",
    "x_test_std = scaler.transform(x_test)"
   ]
  },
  {
   "cell_type": "markdown",
   "id": "9d14ef34",
   "metadata": {},
   "source": [
    "# Training the model using Elephas api"
   ]
  },
  {
   "cell_type": "code",
   "execution_count": null,
   "id": "1336723b",
   "metadata": {
    "scrolled": true
   },
   "outputs": [],
   "source": [
    "import tensorflow as tf\n",
    "import tensorflow.keras as keras\n",
    "from tensorflow.keras.layers import Input,Dense, Dropout\n",
    "from tensorflow.keras.models import Sequential\n",
    "from tensorflow.keras.optimizers import RMSprop\n",
    "    \n",
    "from elephas.utils.rdd_utils import to_simple_rdd\n",
    "from elephas.spark_model import SparkModel\n",
    "from pyspark import SparkContext, SparkConf\n",
    "    \n",
    "def create_model():\n",
    "    layer_neurons = [17,24,34]\n",
    "    model = Sequential() \n",
    "    model.add( Input(shape=(17)) )\n",
    "\n",
    "    for n in layer_neurons:\n",
    "        model.add( Dense(n, activation='relu') )\n",
    "\n",
    "    model.add( Dense(1, activation='relu') )\n",
    "\n",
    "    model.compile(loss='mean_squared_error',\n",
    "                  optimizer='adam')\n",
    "\n",
    "    return model\n",
    "\n",
    "model = create_model()\n",
    "\n",
    "conf = SparkConf().setAppName('Elephas_App').setMaster('local[8]')\n",
    "sc = SparkContext(conf=conf)\n",
    "\n",
    "rdd = to_simple_rdd(sc, x_train, y_train)\n",
    "\n",
    "\n",
    "spark_model = SparkModel(model, frequency='epoch', mode='asynchronous')\n",
    "spark_model.fit(rdd, epochs=20, batch_size=32, verbose=0, validation_split=0.1)\n",
    "spark_model.save(MODEL_PATH)\n",
    "\n",
    "sc.stop()"
   ]
  },
  {
   "cell_type": "markdown",
   "id": "fba580b4",
   "metadata": {},
   "source": [
    "# Predicting on the test data"
   ]
  },
  {
   "cell_type": "code",
   "execution_count": 5,
   "id": "1b454c57",
   "metadata": {},
   "outputs": [
    {
     "name": "stdout",
     "output_type": "stream",
     "text": [
      "183/183 [==============================] - 0s 751us/step - loss: 292.2494\n",
      "R2 score: 0.8649340801331773\n"
     ]
    }
   ],
   "source": [
    "saved_model = tf.keras.models.load_model(MODEL_PATH)\n",
    "saved_model.evaluate(x_test_std,y_test) \n",
    "y_pred_test = saved_model.predict(x_test_std) \n",
    "print('R2 score:',r2_score( y_test, y_pred_test ) )"
   ]
  },
  {
   "cell_type": "markdown",
   "id": "398a5210",
   "metadata": {},
   "source": [
    "# Saving the train & test data for predictions"
   ]
  },
  {
   "cell_type": "code",
   "execution_count": 6,
   "id": "c45c9185",
   "metadata": {},
   "outputs": [],
   "source": [
    "prod_train_df = pd.concat( [x_train, y_train],axis=1 )\n",
    "prod_test_df = pd.concat( [x_test.reset_index(drop=True), y_test.reset_index(drop=True), pd.DataFrame(y_pred_test,columns=['quality_preds'])],axis=1 )\n",
    "prod_train_df.to_csv(TRAIN_CSV_PATH)\n",
    "prod_test_df.to_csv(TEST_CSV_PATH)"
   ]
  }
 ],
 "metadata": {
  "kernelspec": {
   "display_name": "Python 3",
   "language": "python",
   "name": "python3"
  },
  "language_info": {
   "codemirror_mode": {
    "name": "ipython",
    "version": 3
   },
   "file_extension": ".py",
   "mimetype": "text/x-python",
   "name": "python",
   "nbconvert_exporter": "python",
   "pygments_lexer": "ipython3",
   "version": "3.6.9"
  }
 },
 "nbformat": 4,
 "nbformat_minor": 5
}
